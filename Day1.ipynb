{
  "nbformat": 4,
  "nbformat_minor": 0,
  "metadata": {
    "colab": {
      "provenance": [],
      "authorship_tag": "ABX9TyMMk95weLYqPuaaTBFcqyQ1",
      "include_colab_link": true
    },
    "kernelspec": {
      "name": "python3",
      "display_name": "Python 3"
    },
    "language_info": {
      "name": "python"
    }
  },
  "cells": [
    {
      "cell_type": "markdown",
      "metadata": {
        "id": "view-in-github",
        "colab_type": "text"
      },
      "source": [
        "<a href=\"https://colab.research.google.com/github/Shweta094/Python-Development/blob/main/Day1.ipynb\" target=\"_parent\"><img src=\"https://colab.research.google.com/assets/colab-badge.svg\" alt=\"Open In Colab\"/></a>"
      ]
    },
    {
      "cell_type": "code",
      "execution_count": null,
      "metadata": {
        "colab": {
          "base_uri": "https://localhost:8080/"
        },
        "id": "K1sHBfouAdn9",
        "outputId": "d69f83b1-ef20-4be5-c901-da1f8d564a08"
      },
      "outputs": [
        {
          "output_type": "stream",
          "name": "stdout",
          "text": [
            "Python 3.11.13\n"
          ]
        }
      ],
      "source": [
        "!python --version"
      ]
    },
    {
      "cell_type": "code",
      "source": [
        "!python3 --version"
      ],
      "metadata": {
        "colab": {
          "base_uri": "https://localhost:8080/"
        },
        "id": "x3dDA-PGCrlK",
        "outputId": "5ec73805-8ccc-48d1-8307-40c7e2f7023c"
      },
      "execution_count": null,
      "outputs": [
        {
          "output_type": "stream",
          "name": "stdout",
          "text": [
            "Python 3.11.13\n"
          ]
        }
      ]
    },
    {
      "cell_type": "markdown",
      "source": [
        "Pip(Comes with Python) Package management"
      ],
      "metadata": {
        "id": "0PDmzbR7C-JY"
      }
    },
    {
      "cell_type": "code",
      "source": [
        "!pip install requests #Install a package"
      ],
      "metadata": {
        "colab": {
          "base_uri": "https://localhost:8080/"
        },
        "id": "VQFcQ6TiC1cL",
        "outputId": "5d5f0467-dc7a-470e-dbae-95c9c59c78de"
      },
      "execution_count": null,
      "outputs": [
        {
          "output_type": "stream",
          "name": "stdout",
          "text": [
            "Requirement already satisfied: requests in /usr/local/lib/python3.11/dist-packages (2.32.3)\n",
            "Requirement already satisfied: charset-normalizer<4,>=2 in /usr/local/lib/python3.11/dist-packages (from requests) (3.4.2)\n",
            "Requirement already satisfied: idna<4,>=2.5 in /usr/local/lib/python3.11/dist-packages (from requests) (3.10)\n",
            "Requirement already satisfied: urllib3<3,>=1.21.1 in /usr/local/lib/python3.11/dist-packages (from requests) (2.4.0)\n",
            "Requirement already satisfied: certifi>=2017.4.17 in /usr/local/lib/python3.11/dist-packages (from requests) (2025.7.9)\n"
          ]
        }
      ]
    },
    {
      "cell_type": "code",
      "source": [
        "!pip list #see whats installed"
      ],
      "metadata": {
        "colab": {
          "base_uri": "https://localhost:8080/"
        },
        "collapsed": true,
        "id": "h3MIK44pDcdM",
        "outputId": "0b375096-270a-4c28-9de3-51eb9dc9a9bc"
      },
      "execution_count": null,
      "outputs": [
        {
          "output_type": "stream",
          "name": "stdout",
          "text": [
            "Package                               Version\n",
            "------------------------------------- ------------------\n",
            "absl-py                               1.4.0\n",
            "accelerate                            1.8.1\n",
            "aiofiles                              24.1.0\n",
            "aiohappyeyeballs                      2.6.1\n",
            "aiohttp                               3.11.15\n",
            "aiosignal                             1.4.0\n",
            "alabaster                             1.0.0\n",
            "albucore                              0.0.24\n",
            "albumentations                        2.0.8\n",
            "ale-py                                0.11.1\n",
            "altair                                5.5.0\n",
            "annotated-types                       0.7.0\n",
            "antlr4-python3-runtime                4.9.3\n",
            "anyio                                 4.9.0\n",
            "argon2-cffi                           25.1.0\n",
            "argon2-cffi-bindings                  21.2.0\n",
            "array_record                          0.7.2\n",
            "arviz                                 0.21.0\n",
            "astropy                               7.1.0\n",
            "astropy-iers-data                     0.2025.7.7.0.39.39\n",
            "astunparse                            1.6.3\n",
            "atpublic                              5.1\n",
            "attrs                                 25.3.0\n",
            "audioread                             3.0.1\n",
            "autograd                              1.8.0\n",
            "babel                                 2.17.0\n",
            "backcall                              0.2.0\n",
            "backports.tarfile                     1.2.0\n",
            "beautifulsoup4                        4.13.4\n",
            "betterproto                           2.0.0b6\n",
            "bigframes                             2.8.0\n",
            "bigquery-magics                       0.10.1\n",
            "bleach                                6.2.0\n",
            "blinker                               1.9.0\n",
            "blis                                  1.3.0\n",
            "blobfile                              3.0.0\n",
            "blosc2                                3.5.1\n",
            "bokeh                                 3.7.3\n",
            "Bottleneck                            1.4.2\n",
            "bqplot                                0.12.45\n",
            "branca                                0.8.1\n",
            "build                                 1.2.2.post1\n",
            "CacheControl                          0.14.3\n",
            "cachetools                            5.5.2\n",
            "catalogue                             2.0.10\n",
            "certifi                               2025.7.9\n",
            "cffi                                  1.17.1\n",
            "chardet                               5.2.0\n",
            "charset-normalizer                    3.4.2\n",
            "chex                                  0.1.89\n",
            "clarabel                              0.11.1\n",
            "click                                 8.2.1\n",
            "cloudpathlib                          0.21.1\n",
            "cloudpickle                           3.1.1\n",
            "cmake                                 3.31.6\n",
            "cmdstanpy                             1.2.5\n",
            "colorcet                              3.1.0\n",
            "colorlover                            0.3.0\n",
            "colour                                0.1.5\n",
            "community                             1.0.0b1\n",
            "confection                            0.1.5\n",
            "cons                                  0.4.6\n",
            "contourpy                             1.3.2\n",
            "cramjam                               2.10.0\n",
            "cryptography                          43.0.3\n",
            "cuda-python                           12.6.2.post1\n",
            "cudf-cu12                             25.2.1\n",
            "cudf-polars-cu12                      25.2.2\n",
            "cufflinks                             0.17.3\n",
            "cuml-cu12                             25.2.1\n",
            "cupy-cuda12x                          13.3.0\n",
            "curl_cffi                             0.11.4\n",
            "cuvs-cu12                             25.2.1\n",
            "cvxopt                                1.3.2\n",
            "cvxpy                                 1.6.6\n",
            "cycler                                0.12.1\n",
            "cyipopt                               1.5.0\n",
            "cymem                                 2.0.11\n",
            "Cython                                3.0.12\n",
            "dask                                  2024.12.1\n",
            "dask-cuda                             25.2.0\n",
            "dask-cudf-cu12                        25.2.2\n",
            "dask-expr                             1.1.21\n",
            "dataproc-spark-connect                0.8.2\n",
            "datascience                           0.17.6\n",
            "datasets                              2.14.4\n",
            "db-dtypes                             1.4.3\n",
            "dbus-python                           1.2.18\n",
            "debugpy                               1.8.0\n",
            "decorator                             4.4.2\n",
            "defusedxml                            0.7.1\n",
            "diffusers                             0.34.0\n",
            "dill                                  0.3.7\n",
            "distributed                           2024.12.1\n",
            "distributed-ucxx-cu12                 0.42.0\n",
            "distro                                1.9.0\n",
            "dlib                                  19.24.6\n",
            "dm-tree                               0.1.9\n",
            "docstring_parser                      0.16\n",
            "docutils                              0.21.2\n",
            "dopamine_rl                           4.1.2\n",
            "duckdb                                1.2.2\n",
            "earthengine-api                       1.5.23\n",
            "easydict                              1.13\n",
            "editdistance                          0.8.1\n",
            "eerepr                                0.1.2\n",
            "einops                                0.8.1\n",
            "en_core_web_sm                        3.8.0\n",
            "entrypoints                           0.4\n",
            "et_xmlfile                            2.0.0\n",
            "etils                                 1.12.2\n",
            "etuples                               0.3.9\n",
            "Farama-Notifications                  0.0.4\n",
            "fastai                                2.7.19\n",
            "fastapi                               0.116.0\n",
            "fastcore                              1.7.29\n",
            "fastdownload                          0.0.7\n",
            "fastjsonschema                        2.21.1\n",
            "fastprogress                          1.0.3\n",
            "fastrlock                             0.8.3\n",
            "ffmpy                                 0.6.0\n",
            "filelock                              3.18.0\n",
            "firebase-admin                        6.9.0\n",
            "Flask                                 3.1.1\n",
            "flatbuffers                           25.2.10\n",
            "flax                                  0.10.6\n",
            "folium                                0.19.7\n",
            "fonttools                             4.58.5\n",
            "frozendict                            2.4.6\n",
            "frozenlist                            1.7.0\n",
            "fsspec                                2025.3.2\n",
            "future                                1.0.0\n",
            "gast                                  0.6.0\n",
            "gcsfs                                 2025.3.2\n",
            "GDAL                                  3.8.4\n",
            "gdown                                 5.2.0\n",
            "geemap                                0.35.3\n",
            "geocoder                              1.38.1\n",
            "geographiclib                         2.0\n",
            "geopandas                             1.0.1\n",
            "geopy                                 2.4.1\n",
            "gin-config                            0.5.0\n",
            "gitdb                                 4.0.12\n",
            "GitPython                             3.1.44\n",
            "glob2                                 0.7\n",
            "google                                2.0.3\n",
            "google-ai-generativelanguage          0.6.15\n",
            "google-api-core                       2.25.1\n",
            "google-api-python-client              2.176.0\n",
            "google-auth                           2.38.0\n",
            "google-auth-httplib2                  0.2.0\n",
            "google-auth-oauthlib                  1.2.2\n",
            "google-cloud-aiplatform               1.102.0\n",
            "google-cloud-bigquery                 3.34.0\n",
            "google-cloud-bigquery-connection      1.18.3\n",
            "google-cloud-bigquery-storage         2.32.0\n",
            "google-cloud-core                     2.4.3\n",
            "google-cloud-dataproc                 5.21.0\n",
            "google-cloud-datastore                2.21.0\n",
            "google-cloud-firestore                2.21.0\n",
            "google-cloud-functions                1.20.4\n",
            "google-cloud-iam                      2.19.1\n",
            "google-cloud-language                 2.17.2\n",
            "google-cloud-resource-manager         1.14.2\n",
            "google-cloud-spanner                  3.55.0\n",
            "google-cloud-storage                  2.19.0\n",
            "google-cloud-translate                3.21.1\n",
            "google-colab                          1.0.0\n",
            "google-crc32c                         1.7.1\n",
            "google-genai                          1.24.0\n",
            "google-generativeai                   0.8.5\n",
            "google-pasta                          0.2.0\n",
            "google-resumable-media                2.7.2\n",
            "googleapis-common-protos              1.70.0\n",
            "googledrivedownloader                 1.1.0\n",
            "gradio                                5.31.0\n",
            "gradio_client                         1.10.1\n",
            "graphviz                              0.21\n",
            "greenlet                              3.2.3\n",
            "groovy                                0.1.2\n",
            "grpc-google-iam-v1                    0.14.2\n",
            "grpc-interceptor                      0.15.4\n",
            "grpcio                                1.73.1\n",
            "grpcio-status                         1.71.2\n",
            "grpclib                               0.4.8\n",
            "gspread                               6.2.1\n",
            "gspread-dataframe                     4.0.0\n",
            "gym                                   0.25.2\n",
            "gym-notices                           0.0.8\n",
            "gymnasium                             1.2.0\n",
            "h11                                   0.16.0\n",
            "h2                                    4.2.0\n",
            "h5netcdf                              1.6.3\n",
            "h5py                                  3.14.0\n",
            "hdbscan                               0.8.40\n",
            "hf_transfer                           0.1.9\n",
            "hf-xet                                1.1.5\n",
            "highspy                               1.11.0\n",
            "holidays                              0.76\n",
            "holoviews                             1.21.0\n",
            "hpack                                 4.1.0\n",
            "html5lib                              1.1\n",
            "httpcore                              1.0.9\n",
            "httpimport                            1.4.1\n",
            "httplib2                              0.22.0\n",
            "httpx                                 0.28.1\n",
            "huggingface-hub                       0.33.2\n",
            "humanize                              4.12.3\n",
            "hyperframe                            6.1.0\n",
            "hyperopt                              0.2.7\n",
            "ibis-framework                        9.5.0\n",
            "idna                                  3.10\n",
            "imageio                               2.37.0\n",
            "imageio-ffmpeg                        0.6.0\n",
            "imagesize                             1.4.1\n",
            "imbalanced-learn                      0.13.0\n",
            "immutabledict                         4.2.1\n",
            "importlib_metadata                    8.7.0\n",
            "importlib_resources                   6.5.2\n",
            "imutils                               0.5.4\n",
            "inflect                               7.5.0\n",
            "iniconfig                             2.1.0\n",
            "intel-cmplr-lib-ur                    2025.2.0\n",
            "intel-openmp                          2025.2.0\n",
            "ipyevents                             2.0.2\n",
            "ipyfilechooser                        0.6.0\n",
            "ipykernel                             6.17.1\n",
            "ipyleaflet                            0.20.0\n",
            "ipyparallel                           8.8.0\n",
            "ipython                               7.34.0\n",
            "ipython-genutils                      0.2.0\n",
            "ipython-sql                           0.5.0\n",
            "ipytree                               0.2.2\n",
            "ipywidgets                            7.7.1\n",
            "itsdangerous                          2.2.0\n",
            "jaraco.classes                        3.4.0\n",
            "jaraco.context                        6.0.1\n",
            "jaraco.functools                      4.2.1\n",
            "jax                                   0.5.2\n",
            "jax-cuda12-pjrt                       0.5.1\n",
            "jax-cuda12-plugin                     0.5.1\n",
            "jaxlib                                0.5.1\n",
            "jeepney                               0.9.0\n",
            "jieba                                 0.42.1\n",
            "Jinja2                                3.1.6\n",
            "jiter                                 0.10.0\n",
            "joblib                                1.5.1\n",
            "jsonpatch                             1.33\n",
            "jsonpickle                            4.1.1\n",
            "jsonpointer                           3.0.0\n",
            "jsonschema                            4.24.0\n",
            "jsonschema-specifications             2025.4.1\n",
            "jupyter-client                        6.1.12\n",
            "jupyter-console                       6.1.0\n",
            "jupyter_core                          5.8.1\n",
            "jupyter_kernel_gateway                2.5.2\n",
            "jupyter-leaflet                       0.20.0\n",
            "jupyter-server                        1.16.0\n",
            "jupyterlab_pygments                   0.3.0\n",
            "jupyterlab_widgets                    3.0.15\n",
            "jupytext                              1.17.2\n",
            "kaggle                                1.7.4.5\n",
            "kagglehub                             0.3.12\n",
            "keras                                 3.8.0\n",
            "keras-hub                             0.18.1\n",
            "keras-nlp                             0.18.1\n",
            "keyring                               25.6.0\n",
            "keyrings.google-artifactregistry-auth 1.1.2\n",
            "kiwisolver                            1.4.8\n",
            "langchain                             0.3.26\n",
            "langchain-core                        0.3.68\n",
            "langchain-text-splitters              0.3.8\n",
            "langcodes                             3.5.0\n",
            "langsmith                             0.4.4\n",
            "language_data                         1.3.0\n",
            "launchpadlib                          1.10.16\n",
            "lazr.restfulclient                    0.14.4\n",
            "lazr.uri                              1.0.6\n",
            "lazy_loader                           0.4\n",
            "libclang                              18.1.1\n",
            "libcudf-cu12                          25.2.1\n",
            "libcugraph-cu12                       25.2.0\n",
            "libcuml-cu12                          25.2.1\n",
            "libcuvs-cu12                          25.2.1\n",
            "libkvikio-cu12                        25.2.1\n",
            "libpysal                              4.13.0\n",
            "libraft-cu12                          25.2.0\n",
            "librosa                               0.11.0\n",
            "libucx-cu12                           1.18.1\n",
            "libucxx-cu12                          0.42.0\n",
            "lightgbm                              4.5.0\n",
            "linkify-it-py                         2.0.3\n",
            "llvmlite                              0.43.0\n",
            "locket                                1.0.0\n",
            "logical-unification                   0.4.6\n",
            "lxml                                  5.4.0\n",
            "Mako                                  1.1.3\n",
            "marisa-trie                           1.2.1\n",
            "Markdown                              3.8.2\n",
            "markdown-it-py                        3.0.0\n",
            "MarkupSafe                            3.0.2\n",
            "matplotlib                            3.10.0\n",
            "matplotlib-inline                     0.1.7\n",
            "matplotlib-venn                       1.1.2\n",
            "mdit-py-plugins                       0.4.2\n",
            "mdurl                                 0.1.2\n",
            "miniKanren                            1.0.3\n",
            "missingno                             0.5.2\n",
            "mistune                               3.1.3\n",
            "mizani                                0.13.5\n",
            "mkl                                   2025.0.1\n",
            "ml-dtypes                             0.4.1\n",
            "mlxtend                               0.23.4\n",
            "more-itertools                        10.7.0\n",
            "moviepy                               1.0.3\n",
            "mpmath                                1.3.0\n",
            "msgpack                               1.1.1\n",
            "multidict                             6.6.3\n",
            "multipledispatch                      1.0.0\n",
            "multiprocess                          0.70.15\n",
            "multitasking                          0.0.11\n",
            "murmurhash                            1.0.13\n",
            "music21                               9.3.0\n",
            "namex                                 0.1.0\n",
            "narwhals                              1.46.0\n",
            "natsort                               8.4.0\n",
            "nbclassic                             1.3.1\n",
            "nbclient                              0.10.2\n",
            "nbconvert                             7.16.6\n",
            "nbformat                              5.10.4\n",
            "ndindex                               1.10.0\n",
            "nest-asyncio                          1.6.0\n",
            "networkx                              3.5\n",
            "nibabel                               5.3.2\n",
            "nltk                                  3.9.1\n",
            "notebook                              6.5.7\n",
            "notebook_shim                         0.2.4\n",
            "numba                                 0.60.0\n",
            "numba-cuda                            0.2.0\n",
            "numexpr                               2.11.0\n",
            "numpy                                 2.0.2\n",
            "nvidia-cublas-cu12                    12.5.3.2\n",
            "nvidia-cuda-cupti-cu12                12.5.82\n",
            "nvidia-cuda-nvcc-cu12                 12.5.82\n",
            "nvidia-cuda-nvrtc-cu12                12.5.82\n",
            "nvidia-cuda-runtime-cu12              12.5.82\n",
            "nvidia-cudnn-cu12                     9.3.0.75\n",
            "nvidia-cufft-cu12                     11.2.3.61\n",
            "nvidia-curand-cu12                    10.3.6.82\n",
            "nvidia-cusolver-cu12                  11.6.3.83\n",
            "nvidia-cusparse-cu12                  12.5.1.3\n",
            "nvidia-cusparselt-cu12                0.6.2\n",
            "nvidia-ml-py                          12.575.51\n",
            "nvidia-nccl-cu12                      2.21.5\n",
            "nvidia-nvcomp-cu12                    4.2.0.11\n",
            "nvidia-nvjitlink-cu12                 12.5.82\n",
            "nvidia-nvtx-cu12                      12.4.127\n",
            "nvtx                                  0.2.12\n",
            "nx-cugraph-cu12                       25.2.0\n",
            "oauth2client                          4.1.3\n",
            "oauthlib                              3.3.1\n",
            "omegaconf                             2.3.0\n",
            "openai                                1.93.3\n",
            "opencv-contrib-python                 4.11.0.86\n",
            "opencv-python                         4.11.0.86\n",
            "opencv-python-headless                4.12.0.88\n",
            "openpyxl                              3.1.5\n",
            "opt_einsum                            3.4.0\n",
            "optax                                 0.2.5\n",
            "optree                                0.16.0\n",
            "orbax-checkpoint                      0.11.16\n",
            "orjson                                3.10.18\n",
            "osqp                                  1.0.4\n",
            "packaging                             24.2\n",
            "pandas                                2.2.2\n",
            "pandas-datareader                     0.10.0\n",
            "pandas-gbq                            0.29.1\n",
            "pandas-stubs                          2.2.2.240909\n",
            "pandocfilters                         1.5.1\n",
            "panel                                 1.7.3\n",
            "param                                 2.2.1\n",
            "parso                                 0.8.4\n",
            "parsy                                 2.1\n",
            "partd                                 1.4.2\n",
            "pathlib                               1.0.1\n",
            "patsy                                 1.0.1\n",
            "peewee                                3.18.2\n",
            "peft                                  0.16.0\n",
            "pexpect                               4.9.0\n",
            "pickleshare                           0.7.5\n",
            "pillow                                11.2.1\n",
            "pip                                   24.1.2\n",
            "platformdirs                          4.3.8\n",
            "plotly                                5.24.1\n",
            "plotnine                              0.14.6\n",
            "pluggy                                1.6.0\n",
            "ply                                   3.11\n",
            "polars                                1.21.0\n",
            "pooch                                 1.8.2\n",
            "portpicker                            1.5.2\n",
            "preshed                               3.0.10\n",
            "prettytable                           3.16.0\n",
            "proglog                               0.1.12\n",
            "progressbar2                          4.5.0\n",
            "prometheus_client                     0.22.1\n",
            "promise                               2.3\n",
            "prompt_toolkit                        3.0.51\n",
            "propcache                             0.3.2\n",
            "prophet                               1.1.7\n",
            "proto-plus                            1.26.1\n",
            "protobuf                              5.29.5\n",
            "psutil                                5.9.5\n",
            "psycopg2                              2.9.10\n",
            "ptyprocess                            0.7.0\n",
            "py-cpuinfo                            9.0.0\n",
            "py4j                                  0.10.9.7\n",
            "pyarrow                               18.1.0\n",
            "pyasn1                                0.6.1\n",
            "pyasn1_modules                        0.4.2\n",
            "pycairo                               1.28.0\n",
            "pycocotools                           2.0.10\n",
            "pycparser                             2.22\n",
            "pycryptodomex                         3.23.0\n",
            "pydantic                              2.11.7\n",
            "pydantic_core                         2.33.2\n",
            "pydata-google-auth                    1.9.1\n",
            "pydot                                 3.0.4\n",
            "pydotplus                             2.0.2\n",
            "PyDrive                               1.3.1\n",
            "PyDrive2                              1.21.3\n",
            "pydub                                 0.25.1\n",
            "pyerfa                                2.0.1.5\n",
            "pygame                                2.6.1\n",
            "pygit2                                1.18.0\n",
            "Pygments                              2.19.2\n",
            "PyGObject                             3.42.0\n",
            "PyJWT                                 2.10.1\n",
            "pylibcudf-cu12                        25.2.1\n",
            "pylibcugraph-cu12                     25.2.0\n",
            "pylibraft-cu12                        25.2.0\n",
            "pymc                                  5.23.0\n",
            "pymystem3                             0.2.0\n",
            "pynndescent                           0.5.13\n",
            "pynvjitlink-cu12                      0.7.0\n",
            "pynvml                                12.0.0\n",
            "pyogrio                               0.11.0\n",
            "pyomo                                 6.9.2\n",
            "PyOpenGL                              3.1.9\n",
            "pyOpenSSL                             24.2.1\n",
            "pyparsing                             3.2.3\n",
            "pyperclip                             1.9.0\n",
            "pyproj                                3.7.1\n",
            "pyproject_hooks                       1.2.0\n",
            "pyshp                                 2.3.1\n",
            "PySocks                               1.7.1\n",
            "pyspark                               3.5.1\n",
            "pytensor                              2.31.7\n",
            "pytest                                8.3.5\n",
            "python-apt                            0.0.0\n",
            "python-box                            7.3.2\n",
            "python-dateutil                       2.9.0.post0\n",
            "python-louvain                        0.16\n",
            "python-multipart                      0.0.20\n",
            "python-slugify                        8.0.4\n",
            "python-snappy                         0.7.3\n",
            "python-utils                          3.9.1\n",
            "pytz                                  2025.2\n",
            "pyviz_comms                           3.0.6\n",
            "PyWavelets                            1.8.0\n",
            "PyYAML                                6.0.2\n",
            "pyzmq                                 24.0.1\n",
            "raft-dask-cu12                        25.2.0\n",
            "rapids-dask-dependency                25.2.0\n",
            "ratelim                               0.1.6\n",
            "referencing                           0.36.2\n",
            "regex                                 2024.11.6\n",
            "requests                              2.32.3\n",
            "requests-oauthlib                     2.0.0\n",
            "requests-toolbelt                     1.0.0\n",
            "requirements-parser                   0.9.0\n",
            "rich                                  13.9.4\n",
            "rmm-cu12                              25.2.0\n",
            "roman-numerals-py                     3.1.0\n",
            "rpds-py                               0.26.0\n",
            "rpy2                                  3.5.17\n",
            "rsa                                   4.9.1\n",
            "ruff                                  0.12.2\n",
            "safehttpx                             0.1.6\n",
            "safetensors                           0.5.3\n",
            "scikit-image                          0.25.2\n",
            "scikit-learn                          1.6.1\n",
            "scipy                                 1.15.3\n",
            "scooby                                0.10.1\n",
            "scs                                   3.2.7.post2\n",
            "seaborn                               0.13.2\n",
            "SecretStorage                         3.3.3\n",
            "semantic-version                      2.10.0\n",
            "Send2Trash                            1.8.3\n",
            "sentence-transformers                 4.1.0\n",
            "sentencepiece                         0.2.0\n",
            "sentry-sdk                            2.32.0\n",
            "setuptools                            75.2.0\n",
            "shap                                  0.48.0\n",
            "shapely                               2.1.1\n",
            "shellingham                           1.5.4\n",
            "simple-parsing                        0.1.7\n",
            "simplejson                            3.20.1\n",
            "simsimd                               6.5.0\n",
            "six                                   1.17.0\n",
            "sklearn-compat                        0.1.3\n",
            "sklearn-pandas                        2.2.0\n",
            "slicer                                0.0.8\n",
            "smart_open                            7.3.0.post1\n",
            "smmap                                 5.0.2\n",
            "sniffio                               1.3.1\n",
            "snowballstemmer                       3.0.1\n",
            "sortedcontainers                      2.4.0\n",
            "soundfile                             0.13.1\n",
            "soupsieve                             2.7\n",
            "soxr                                  0.5.0.post1\n",
            "spacy                                 3.8.7\n",
            "spacy-legacy                          3.0.12\n",
            "spacy-loggers                         1.0.5\n",
            "spanner-graph-notebook                1.1.7\n",
            "Sphinx                                8.2.3\n",
            "sphinxcontrib-applehelp               2.0.0\n",
            "sphinxcontrib-devhelp                 2.0.0\n",
            "sphinxcontrib-htmlhelp                2.1.0\n",
            "sphinxcontrib-jsmath                  1.0.1\n",
            "sphinxcontrib-qthelp                  2.0.0\n",
            "sphinxcontrib-serializinghtml         2.0.0\n",
            "SQLAlchemy                            2.0.41\n",
            "sqlglot                               25.20.2\n",
            "sqlparse                              0.5.3\n",
            "srsly                                 2.5.1\n",
            "stanio                                0.5.1\n",
            "starlette                             0.46.2\n",
            "statsmodels                           0.14.5\n",
            "stringzilla                           3.12.5\n",
            "stumpy                                1.13.0\n",
            "sympy                                 1.13.1\n",
            "tables                                3.10.2\n",
            "tabulate                              0.9.0\n",
            "tbb                                   2022.2.0\n",
            "tblib                                 3.1.0\n",
            "tcmlib                                1.4.0\n",
            "tenacity                              8.5.0\n",
            "tensorboard                           2.18.0\n",
            "tensorboard-data-server               0.7.2\n",
            "tensorflow                            2.18.0\n",
            "tensorflow-datasets                   4.9.9\n",
            "tensorflow_decision_forests           1.11.0\n",
            "tensorflow-hub                        0.16.1\n",
            "tensorflow-io-gcs-filesystem          0.37.1\n",
            "tensorflow-metadata                   1.17.2\n",
            "tensorflow-probability                0.25.0\n",
            "tensorflow-text                       2.18.1\n",
            "tensorstore                           0.1.74\n",
            "termcolor                             3.1.0\n",
            "terminado                             0.18.1\n",
            "text-unidecode                        1.3\n",
            "textblob                              0.19.0\n",
            "tf_keras                              2.18.0\n",
            "tf-slim                               1.1.0\n",
            "thinc                                 8.3.6\n",
            "threadpoolctl                         3.6.0\n",
            "tifffile                              2025.6.11\n",
            "tiktoken                              0.9.0\n",
            "timm                                  1.0.16\n",
            "tinycss2                              1.4.0\n",
            "tokenizers                            0.21.2\n",
            "toml                                  0.10.2\n",
            "tomlkit                               0.13.3\n",
            "toolz                                 0.12.1\n",
            "torch                                 2.6.0+cu124\n",
            "torchao                               0.10.0\n",
            "torchaudio                            2.6.0+cu124\n",
            "torchdata                             0.11.0\n",
            "torchsummary                          1.5.1\n",
            "torchtune                             0.6.1\n",
            "torchvision                           0.21.0+cu124\n",
            "tornado                               6.4.2\n",
            "tqdm                                  4.67.1\n",
            "traitlets                             5.7.1\n",
            "traittypes                            0.2.1\n",
            "transformers                          4.53.1\n",
            "treelite                              4.4.1\n",
            "treescope                             0.1.9\n",
            "triton                                3.2.0\n",
            "tsfresh                               0.21.0\n",
            "tweepy                                4.15.0\n",
            "typeguard                             4.4.4\n",
            "typer                                 0.16.0\n",
            "types-pytz                            2025.2.0.20250516\n",
            "types-setuptools                      80.9.0.20250529\n",
            "typing_extensions                     4.14.1\n",
            "typing-inspection                     0.4.1\n",
            "tzdata                                2025.2\n",
            "tzlocal                               5.3.1\n",
            "uc-micro-py                           1.0.3\n",
            "ucx-py-cu12                           0.42.0\n",
            "ucxx-cu12                             0.42.0\n",
            "umap-learn                            0.5.9.post2\n",
            "umf                                   0.11.0\n",
            "uritemplate                           4.2.0\n",
            "urllib3                               2.4.0\n",
            "uvicorn                               0.35.0\n",
            "vega-datasets                         0.9.0\n",
            "wadllib                               1.3.6\n",
            "wandb                                 0.21.0\n",
            "wasabi                                1.1.3\n",
            "wcwidth                               0.2.13\n",
            "weasel                                0.4.1\n",
            "webcolors                             24.11.1\n",
            "webencodings                          0.5.1\n",
            "websocket-client                      1.8.0\n",
            "websockets                            15.0.1\n",
            "Werkzeug                              3.1.3\n",
            "wheel                                 0.45.1\n",
            "widgetsnbextension                    3.6.10\n",
            "wordcloud                             1.9.4\n",
            "wrapt                                 1.17.2\n",
            "wurlitzer                             3.1.1\n",
            "xarray                                2025.3.1\n",
            "xarray-einstats                       0.9.1\n",
            "xgboost                               2.1.4\n",
            "xlrd                                  2.0.2\n",
            "xxhash                                3.5.0\n",
            "xyzservices                           2025.4.0\n",
            "yarl                                  1.20.1\n",
            "ydf                                   0.12.0\n",
            "yellowbrick                           1.5\n",
            "yfinance                              0.2.65\n",
            "zict                                  3.0.0\n",
            "zipp                                  3.23.0\n",
            "zstandard                             0.23.0\n"
          ]
        }
      ]
    },
    {
      "cell_type": "markdown",
      "source": [
        "Python Basics - Variables & Basic Syntax\n",
        "\n",
        "Key Rules:\n",
        "\n",
        "-Python is case-sensitive (Name ≠ name)\n",
        "\n",
        "-Use indentation for code blocks (not curly braces)\n",
        "\n",
        "-No need to declare variable types"
      ],
      "metadata": {
        "id": "ZPB_QqnBEaVZ"
      }
    },
    {
      "cell_type": "code",
      "source": [
        "print(\"Hello World\")"
      ],
      "metadata": {
        "colab": {
          "base_uri": "https://localhost:8080/"
        },
        "id": "YZGE_PiPDsa7",
        "outputId": "679b5583-f2f7-43a7-9235-89ba4a8149d3"
      },
      "execution_count": null,
      "outputs": [
        {
          "output_type": "stream",
          "name": "stdout",
          "text": [
            "Hello World\n"
          ]
        }
      ]
    },
    {
      "cell_type": "code",
      "source": [
        "student_name = \"Alia\"\n",
        "student_age = 20\n",
        "student_gpa = 8.2\n",
        "is_enrolled = True"
      ],
      "metadata": {
        "id": "UMAejmnFFENc"
      },
      "execution_count": null,
      "outputs": []
    },
    {
      "cell_type": "code",
      "source": [
        "print(\"Student:\", student_name)\n",
        "print(\"Age:\", student_age)\n",
        "print(\"GPA:\", student_gpa)\n",
        "print(\"Enrolled:\", is_enrolled)"
      ],
      "metadata": {
        "colab": {
          "base_uri": "https://localhost:8080/"
        },
        "id": "6_9Txxv4FVAo",
        "outputId": "5e3be7da-f164-4efe-b958-e3ae2d628ce4"
      },
      "execution_count": null,
      "outputs": [
        {
          "output_type": "stream",
          "name": "stdout",
          "text": [
            "Student: Alia\n",
            "Age: 20\n",
            "GPA: 8.2\n",
            "Enrolled: True\n"
          ]
        }
      ]
    },
    {
      "cell_type": "code",
      "source": [
        "age = 25\n",
        "print(type(age))"
      ],
      "metadata": {
        "colab": {
          "base_uri": "https://localhost:8080/"
        },
        "id": "rC8AcBZNFgNZ",
        "outputId": "42cc4316-999e-4a7f-e177-5df69ea59c55"
      },
      "execution_count": null,
      "outputs": [
        {
          "output_type": "stream",
          "name": "stdout",
          "text": [
            "<class 'int'>\n"
          ]
        }
      ]
    },
    {
      "cell_type": "code",
      "source": [
        "print(type(is_enrolled))"
      ],
      "metadata": {
        "colab": {
          "base_uri": "https://localhost:8080/"
        },
        "id": "Adtept2nF_Kc",
        "outputId": "5931e027-5633-4fa1-c761-bf3d7c6d9aac"
      },
      "execution_count": null,
      "outputs": [
        {
          "output_type": "stream",
          "name": "stdout",
          "text": [
            "<class 'bool'>\n"
          ]
        }
      ]
    },
    {
      "cell_type": "code",
      "source": [
        "first_name = \"John\"\n",
        "last_name = \"Doe\""
      ],
      "metadata": {
        "id": "AAJBJgO1GGAA"
      },
      "execution_count": null,
      "outputs": []
    },
    {
      "cell_type": "code",
      "source": [
        "name = first_name + \" \" + last_name    #concatenation\n",
        "print(name)"
      ],
      "metadata": {
        "colab": {
          "base_uri": "https://localhost:8080/"
        },
        "id": "YJLTRBg4zfiB",
        "outputId": "01497993-1edb-437c-8b90-54cba0f28e3a"
      },
      "execution_count": null,
      "outputs": [
        {
          "output_type": "stream",
          "name": "stdout",
          "text": [
            "John Doe\n"
          ]
        }
      ]
    },
    {
      "cell_type": "code",
      "source": [
        "greeting = f\"Hello, {first_name}! You are amazing\""
      ],
      "metadata": {
        "id": "IFQgdUo-zmO2"
      },
      "execution_count": null,
      "outputs": []
    },
    {
      "cell_type": "code",
      "source": [
        "print(greeting)"
      ],
      "metadata": {
        "colab": {
          "base_uri": "https://localhost:8080/"
        },
        "id": "1cqdA3v90PUd",
        "outputId": "f010af88-301e-42e4-8b3b-0d5b99b2b64f"
      },
      "execution_count": null,
      "outputs": [
        {
          "output_type": "stream",
          "name": "stdout",
          "text": [
            "Hello, John! You are amazing\n"
          ]
        }
      ]
    },
    {
      "cell_type": "code",
      "source": [
        "print(name.upper())\n",
        "print(name.lower())\n",
        "print(name.replace(\"John\", \"Jaden\"))"
      ],
      "metadata": {
        "colab": {
          "base_uri": "https://localhost:8080/"
        },
        "id": "6PDRFeft03he",
        "outputId": "6694950a-796b-4a26-cab7-9e38665ce7af"
      },
      "execution_count": null,
      "outputs": [
        {
          "output_type": "stream",
          "name": "stdout",
          "text": [
            "JOHN DOE\n",
            "john doe\n",
            "Jaden Doe\n"
          ]
        }
      ]
    },
    {
      "cell_type": "code",
      "source": [
        "#Problem 1\n",
        "import numpy as np\n",
        "print(f\"NumPy version: {np.__version__}\")"
      ],
      "metadata": {
        "colab": {
          "base_uri": "https://localhost:8080/"
        },
        "id": "XPXbmYph1bF_",
        "outputId": "5f3ace13-cc5c-4115-b30b-1324909c12ad"
      },
      "execution_count": null,
      "outputs": [
        {
          "output_type": "stream",
          "name": "stdout",
          "text": [
            "NumPy version: 2.0.2\n"
          ]
        }
      ]
    },
    {
      "cell_type": "code",
      "source": [
        "#Problem 2\n",
        "myname = \"Shweta\"\n",
        "myage = 20\n",
        "mynumber = 5\n",
        "print(f\"Hello this is {myname}! and I'm {myage} and my lucky number is {mynumber}\")"
      ],
      "metadata": {
        "colab": {
          "base_uri": "https://localhost:8080/"
        },
        "id": "UHSa89_d27MV",
        "outputId": "7861f161-bf93-43c0-d7cf-4ad3e0084ed7"
      },
      "execution_count": null,
      "outputs": [
        {
          "output_type": "stream",
          "name": "stdout",
          "text": [
            "Hello this is Shweta! and I'm 20 and my lucky number is 5\n"
          ]
        }
      ]
    },
    {
      "cell_type": "code",
      "source": [
        "#Problem 3\n",
        "price_str = \"45.99\"\n",
        "quantity = \"3\"\n",
        "total = float(price_str) * int(quantity)\n",
        "print(total)"
      ],
      "metadata": {
        "colab": {
          "base_uri": "https://localhost:8080/"
        },
        "id": "GJupOpQ655XH",
        "outputId": "ab8e78c8-3e88-4ad6-d35b-b892f73fa421"
      },
      "execution_count": null,
      "outputs": [
        {
          "output_type": "stream",
          "name": "stdout",
          "text": [
            "137.97\n"
          ]
        }
      ]
    },
    {
      "cell_type": "code",
      "source": [
        "#Problem 4\n",
        "celsius = float(input(\"Enter temperature in Celsius: \"))\n",
        "fahrenheit = (celsius * (9/5)) + 32\n",
        "print(f\"In Fahrenheit it will be {fahrenheit}F\")"
      ],
      "metadata": {
        "colab": {
          "base_uri": "https://localhost:8080/"
        },
        "id": "r1pNPDa23jsJ",
        "outputId": "bff7af88-074a-46b7-91fc-3b150a5bec62"
      },
      "execution_count": null,
      "outputs": [
        {
          "output_type": "stream",
          "name": "stdout",
          "text": [
            "Enter temperature in Celsius: 54\n",
            "In Fahrenheit it will be 129.2F\n"
          ]
        }
      ]
    },
    {
      "cell_type": "code",
      "source": [
        "#Problem 5\n",
        "a = 10\n",
        "b = 20\n",
        "print(f\"Before: a = {a}, b = {b}\")\n",
        "a,b = b,a\n",
        "print(f\"After: a = {a}, b = {b}\")"
      ],
      "metadata": {
        "colab": {
          "base_uri": "https://localhost:8080/"
        },
        "id": "PyT1gSxj42A8",
        "outputId": "2e8a50de-53ed-45e9-c503-cdd95e0ddfe8"
      },
      "execution_count": null,
      "outputs": [
        {
          "output_type": "stream",
          "name": "stdout",
          "text": [
            "Before: a = 10, b = 20\n",
            "After: a = 20, b = 10\n"
          ]
        }
      ]
    },
    {
      "cell_type": "code",
      "source": [
        "num1 = int(input(\"Enter first number: \"))\n",
        "num2 = int(input(\"Enter second number: \"))\n",
        "operator = input(\"Enter operator (+, -, *, /): \")\n",
        "if(operator == \"+\"):\n",
        "  print(f\"Sum is {num1 + num2}\")\n",
        "elif(operator == \"-\"):\n",
        "  print(f\"Difference is {num1 - num2}\")\n",
        "elif(operator == \"*\"):\n",
        "  print(f\"Product is {num1 * num2}\")\n",
        "elif(operator == \"/\"):\n",
        "  print(f\"Quotient is {num1 / num2}\")\n",
        "else:\n",
        "  print(\"Invalid operator\")"
      ],
      "metadata": {
        "colab": {
          "base_uri": "https://localhost:8080/"
        },
        "id": "d0UiXWXM5qf8",
        "outputId": "bc7414d5-8fd9-4867-ac68-d35634033e7e"
      },
      "execution_count": null,
      "outputs": [
        {
          "output_type": "stream",
          "name": "stdout",
          "text": [
            "Enter first number: 10\n",
            "Enter second number: 5\n",
            "Enter operator (+, -, *, /): +\n",
            "Sum is 15\n"
          ]
        }
      ]
    },
    {
      "cell_type": "code",
      "source": [
        "principal = int(input(\"Enter the principal amount: \"))\n",
        "rate = float(input(\"Enter the rate of interest: \"))\n",
        "roi = rate/100\n",
        "time = int(input(\"Enter the time in years: \"))\n",
        "n = 1\n",
        "amount = principal*(1+ roi/n)**(n*time)\n",
        "print(f\"The amount is {amount}\")"
      ],
      "metadata": {
        "colab": {
          "base_uri": "https://localhost:8080/"
        },
        "id": "WmuOoY_09cNi",
        "outputId": "0a3b20d4-18a7-4b25-8dea-4d41a0f8a414"
      },
      "execution_count": null,
      "outputs": [
        {
          "output_type": "stream",
          "name": "stdout",
          "text": [
            "Enter the principal amount: 15000\n",
            "Enter the rate of interest: 12\n",
            "Enter the time in years: 5\n",
            "The amount is 26435.12524800001\n"
          ]
        }
      ]
    },
    {
      "cell_type": "markdown",
      "source": [
        "**DAY 2**\n",
        "\n",
        "What are Conditional Statements?\n",
        "Conditional statements allow your program to make decisions based on certain conditions. Think of them as \"if-then\" logic that we use in everyday life.\n",
        "How Conditions Work:\n",
        "\n",
        "if: Execute code if condition is True\n",
        "\n",
        "elif: (else if) Check another condition if previous was False\n",
        "\n",
        "else: Execute if all above conditions are False"
      ],
      "metadata": {
        "id": "wk0O7k-hEG5e"
      }
    },
    {
      "cell_type": "code",
      "source": [
        "#Problem 1\n",
        "age = int(input(\"Enter your age: \"))\n",
        "if age <= 12:\n",
        "  print(\"Child\")\n",
        "elif age <= 19:\n",
        "  print(\"Teenager\")\n",
        "elif age <=59:\n",
        "  print(\"Adult\")\n",
        "elif age >= 60:\n",
        "  print(\"Senior Citizen\")"
      ],
      "metadata": {
        "colab": {
          "base_uri": "https://localhost:8080/"
        },
        "id": "4FZHNycK_l7o",
        "outputId": "6a628aca-a837-4864-9819-d5c86de2b064"
      },
      "execution_count": null,
      "outputs": [
        {
          "output_type": "stream",
          "name": "stdout",
          "text": [
            "Enter your age: 0\n",
            "Child\n"
          ]
        }
      ]
    },
    {
      "cell_type": "code",
      "source": [
        "#Problem 2\n",
        "num = int(input(\"Enter the Number: \"))\n",
        "if num % 2 ==0:\n",
        "  print(f\"{num} is even\")\n",
        "else:\n",
        "  print(f\"{num} is odd\")"
      ],
      "metadata": {
        "colab": {
          "base_uri": "https://localhost:8080/"
        },
        "id": "1nAzsPjlHSEY",
        "outputId": "863607a1-af6f-4d09-f1ad-300d5329775f"
      },
      "execution_count": null,
      "outputs": [
        {
          "output_type": "stream",
          "name": "stdout",
          "text": [
            "Enter the Number: 34\n",
            "34 is even\n"
          ]
        }
      ]
    },
    {
      "cell_type": "code",
      "source": [
        "#Problem 3\n",
        "for i in range(10,0,-1):\n",
        "  print(i, end=\" \")\n",
        "print(\"\\nHappy New Year!\")"
      ],
      "metadata": {
        "id": "EwnbyE0pIhqp",
        "colab": {
          "base_uri": "https://localhost:8080/"
        },
        "outputId": "8173e2a7-818c-42f3-aad3-f155d064a12d"
      },
      "execution_count": null,
      "outputs": [
        {
          "output_type": "stream",
          "name": "stdout",
          "text": [
            "10 9 8 7 6 5 4 3 2 1 \n",
            "Happy New Year!\n"
          ]
        }
      ]
    },
    {
      "cell_type": "code",
      "source": [
        "#Problem 4\n",
        "pwd=input(\"Enter the password: \")\n",
        "if len(pwd) < 6:\n",
        "  print(\"Password is weak\")\n",
        "elif len(pwd) <= 10:\n",
        "  print(\"Password is medium\")\n",
        "else:\n",
        "  print(\"Password is strong\")"
      ],
      "metadata": {
        "colab": {
          "base_uri": "https://localhost:8080/"
        },
        "id": "eD0gmwzahUZ_",
        "outputId": "f244ced0-9cf0-4ac6-edf3-2bb200cc3131"
      },
      "execution_count": null,
      "outputs": [
        {
          "output_type": "stream",
          "name": "stdout",
          "text": [
            "Enter the password: shweta12\n",
            "Password is medium\n"
          ]
        }
      ]
    },
    {
      "cell_type": "code",
      "source": [
        "#Problem 5\n",
        "secret = 7\n",
        "guess = int(input(\"Guess the number:\"))\n",
        "count = 0\n",
        "while(True):\n",
        "  count = count + 1\n",
        "  if(guess == secret):\n",
        "    print(\"Correct guess!!\")\n",
        "    print(\"Attempts = \",count)\n",
        "    break\n",
        "  elif(guess > secret):\n",
        "    print(\"Too high\")\n",
        "  else:\n",
        "    print(\"Too low\")\n",
        "  guess = int(input(\"Guess again: \"))\n"
      ],
      "metadata": {
        "colab": {
          "base_uri": "https://localhost:8080/"
        },
        "id": "P8eRGvscircp",
        "outputId": "09b8f9cc-c7d3-4973-86bc-3fd20b3d54a4"
      },
      "execution_count": null,
      "outputs": [
        {
          "output_type": "stream",
          "name": "stdout",
          "text": [
            "Guess the number:9\n",
            "Too high\n",
            "Guess again: 2\n",
            "Too low\n",
            "Guess again: 7\n",
            "Correct guess!!\n",
            "Attempts =  2\n"
          ]
        }
      ]
    },
    {
      "cell_type": "code",
      "source": [
        "#Problem 6\n",
        "num = int(input(\"Enter the number: \"))\n",
        "multiple = int(input(\"Enter the multiple: \"))\n",
        "for i in range(1,multiple+1):\n",
        "  print(f\"{num} x {i} = {num * i}\", end =\" \")"
      ],
      "metadata": {
        "colab": {
          "base_uri": "https://localhost:8080/"
        },
        "id": "4GP5g-M7yZrE",
        "outputId": "75109e93-fa86-4966-f463-9ae683be4660"
      },
      "execution_count": null,
      "outputs": [
        {
          "output_type": "stream",
          "name": "stdout",
          "text": [
            "Enter the number: 5\n",
            "Enter the multiple: 3\n",
            "5 x 1 = 5, 5 x 2 = 10, 5 x 3 = 15, "
          ]
        }
      ]
    },
    {
      "cell_type": "code",
      "source": [
        "#Problem 7\n",
        "rows = int(input(\"Enter the number of rows: \"))\n",
        "for i in range(1,rows+1):\n",
        "  for j in range(1,i+1):\n",
        "    print(\"*\", end=\"\")\n",
        "  print()"
      ],
      "metadata": {
        "colab": {
          "base_uri": "https://localhost:8080/"
        },
        "id": "IItLz2g51doX",
        "outputId": "15aadf36-5931-4b9f-bd5b-fccb3ef0ff94"
      },
      "execution_count": null,
      "outputs": [
        {
          "output_type": "stream",
          "name": "stdout",
          "text": [
            "Enter the number of rows: 5\n",
            "*\n",
            "**\n",
            "***\n",
            "****\n",
            "*****\n"
          ]
        }
      ]
    },
    {
      "cell_type": "markdown",
      "source": [
        "**Functions**\n",
        "\n",
        "A function is a reusable block of code that performs a specific task. Think of it as a mini-program within your program that you can call whenever needed."
      ],
      "metadata": {
        "id": "sfPmxJEiqo97"
      }
    },
    {
      "cell_type": "code",
      "source": [
        "def check_even_odd(num):\n",
        "  if(num % 2 == 0):\n",
        "    return \"even\"\n",
        "  else:\n",
        "    return \"odd\"\n",
        "result = check_even_odd(7)\n",
        "print(f\"7 is {result}\")"
      ],
      "metadata": {
        "id": "fepJY-Ll8ZBn",
        "colab": {
          "base_uri": "https://localhost:8080/"
        },
        "outputId": "48c2f433-6d65-4381-c427-fe9b5fc2faac"
      },
      "execution_count": null,
      "outputs": [
        {
          "output_type": "stream",
          "name": "stdout",
          "text": [
            "7 is odd\n"
          ]
        }
      ]
    },
    {
      "cell_type": "code",
      "source": [
        "def count_vowels(text):\n",
        "    \"\"\"Counts vowels in a string\"\"\"\n",
        "    vowels = \"aeiouAEIOU\"\n",
        "    count = 0\n",
        "    for char in text:\n",
        "        if char in vowels:\n",
        "            count += 1\n",
        "    return count\n",
        "\n",
        "print(count_vowels(\"Hello World\"))"
      ],
      "metadata": {
        "colab": {
          "base_uri": "https://localhost:8080/"
        },
        "id": "CSE7RHdJOL-X",
        "outputId": "3e2b2d5c-6748-42e6-f9c8-e2bcc17d004f"
      },
      "execution_count": null,
      "outputs": [
        {
          "output_type": "stream",
          "name": "stdout",
          "text": [
            "3\n"
          ]
        }
      ]
    },
    {
      "cell_type": "code",
      "source": [
        "def calculator(a, b, operator):\n",
        "    if operator == \"+\":\n",
        "        return a + b\n",
        "    elif operator == \"-\":\n",
        "        return a - b\n",
        "    elif operator == \"*\":\n",
        "        return a * b\n",
        "    elif operator == \"/\":\n",
        "        return a / b\n",
        "result = calculator(10, 5, '+')\n",
        "print(result)"
      ],
      "metadata": {
        "colab": {
          "base_uri": "https://localhost:8080/"
        },
        "id": "KN2syqHwXUrN",
        "outputId": "da4cce21-2359-4ad9-af2a-633661db46a2"
      },
      "execution_count": null,
      "outputs": [
        {
          "output_type": "stream",
          "name": "stdout",
          "text": [
            "15\n"
          ]
        }
      ]
    },
    {
      "cell_type": "code",
      "source": [
        "def analyze_string(str):\n",
        "  vowels = \"aeiouAEIOU\"\n",
        "  vc = 0\n",
        "  count = 0\n",
        "  wc = 0\n",
        "  for s in str:\n",
        "    count+=1\n",
        "    if s in vowels:\n",
        "      vc+=1\n",
        "    if s ==\" \" :\n",
        "      wc+=1\n",
        "  return count, vc, wc\n",
        "charac, vowelsc, words = analyze_string(\"Welcome to the world of Python \")\n",
        "print(f\"Total characters: {charac}\")\n",
        "print(f\"Total vowels: {vowelsc}\")\n",
        "print(f\"Total words: {words}\")"
      ],
      "metadata": {
        "colab": {
          "base_uri": "https://localhost:8080/"
        },
        "id": "SFvwfOqUX92j",
        "outputId": "6adc689b-cccd-4883-a6db-39b316c1d338"
      },
      "execution_count": null,
      "outputs": [
        {
          "output_type": "stream",
          "name": "stdout",
          "text": [
            "Total characters: 31\n",
            "Total vowels: 8\n",
            "Total words: 6\n"
          ]
        }
      ]
    },
    {
      "cell_type": "code",
      "source": [
        "def is_prime(num):\n",
        "  if num <= 1:\n",
        "    return \"not prime\"\n",
        "  else:\n",
        "    for i in range(2,num):\n",
        "      if num % i == 0:\n",
        "        return \"not prime\"\n",
        "    return \"prime\"\n",
        "print(is_prime(127))"
      ],
      "metadata": {
        "id": "Bnj_bR_lb5dM",
        "colab": {
          "base_uri": "https://localhost:8080/"
        },
        "outputId": "02df64ac-2877-4e0c-9069-9795e111c4c1"
      },
      "execution_count": null,
      "outputs": [
        {
          "output_type": "stream",
          "name": "stdout",
          "text": [
            "prime\n"
          ]
        }
      ]
    },
    {
      "cell_type": "code",
      "source": [
        "def create_user (**kwargs):\n",
        "  \"\"\"Create a user profile with flexible attributes \"\"\"\n",
        "  \"\"\"**kwargs is a dictionary and here profile has few default keywords\"\"\"\n",
        "  profile = {\n",
        "      'name' : kwargs.get('name','Unknown'),\n",
        "      'age' : kwargs.get('age',0),\n",
        "      'email' : kwargs.get('email','not provided')\n",
        "  }\n",
        "  # adding new attributes/keywords\n",
        "  for key, value in kwargs.items():\n",
        "    if key not in profile:\n",
        "      profile[key] = value\n",
        "  print(profile)\n",
        "  return profile\n",
        "# input\n",
        "user1 = create_user(name='John', age=25, city='New York')\n",
        "user2 = create_user(name ='Jay', number = 1234567890 , email = \"not provided\")"
      ],
      "metadata": {
        "id": "dlONVcN77GeR",
        "colab": {
          "base_uri": "https://localhost:8080/"
        },
        "outputId": "72503c0f-1929-46b2-c78d-97c3aa29f235"
      },
      "execution_count": null,
      "outputs": [
        {
          "output_type": "stream",
          "name": "stdout",
          "text": [
            "{'name': 'John', 'age': 25, 'email': 'not provided', 'city': 'New York'}\n",
            "{'name': 'Jay', 'age': 0, 'email': 'not provided', 'number': 1234567890}\n"
          ]
        }
      ]
    },
    {
      "cell_type": "code",
      "source": [
        "def filter_data(data, **kwargs):\n",
        "  \"\"\"Filter data based on keyword arguments\"\"\"\n",
        "  filtered_data = []\n",
        "  for item in data:\n",
        "    if all(item[key] == value for key, value in kwargs.items()):\n",
        "      filtered_data.append(item)\n",
        "  return filtered_data\n",
        "\n",
        "students = [\n",
        "    {'name': 'Alice', 'grade': 'A', 'age': 20, 'major': 'CS'},\n",
        "    {'name': 'Bob', 'grade': 'B', 'age': 21, 'major': 'Math'},\n",
        "    {'name': 'Charlie', 'grade': 'A', 'age': 20, 'major': 'CS'},\n",
        "]\n",
        "\n",
        "cs_students = filter_data(students, major='CS')\n",
        "young_a_students = filter_data(students, grade='A', age=20)\n",
        "print(cs_students)\n",
        "print(young_a_students)"
      ],
      "metadata": {
        "colab": {
          "base_uri": "https://localhost:8080/"
        },
        "id": "LNTVQAXpm5lf",
        "outputId": "1bc902c3-5cf7-403a-eb55-784e8a710e33"
      },
      "execution_count": null,
      "outputs": [
        {
          "output_type": "stream",
          "name": "stdout",
          "text": [
            "[{'name': 'Alice', 'grade': 'A', 'age': 20, 'major': 'CS'}, {'name': 'Charlie', 'grade': 'A', 'age': 20, 'major': 'CS'}]\n",
            "[{'name': 'Alice', 'grade': 'A', 'age': 20, 'major': 'CS'}, {'name': 'Charlie', 'grade': 'A', 'age': 20, 'major': 'CS'}]\n"
          ]
        }
      ]
    },
    {
      "cell_type": "code",
      "source": [
        "def greet(name, age, city):\n",
        "    print(f\"Hello {name}, you are {age} years old and live in {city}\")\n",
        "\n",
        "# Using a dictionary to pass arguments\n",
        "person_info = {\n",
        "    'name': 'Alia',\n",
        "    'age': 20,\n",
        "    'city': 'New Delhi'\n",
        "}\n",
        "\n",
        "# Unpack the dictionary\n",
        "greet(**person_info)  # Equivalent to greet(name='Alice', age=30, city='New York')"
      ],
      "metadata": {
        "colab": {
          "base_uri": "https://localhost:8080/"
        },
        "id": "J8ed_pFxoppl",
        "outputId": "85952004-8cf5-46f3-e815-d7d5edb153c1"
      },
      "execution_count": null,
      "outputs": [
        {
          "output_type": "stream",
          "name": "stdout",
          "text": [
            "Hello Alia, you are 20 years old and live in New Delhi\n"
          ]
        }
      ]
    },
    {
      "cell_type": "code",
      "source": [],
      "metadata": {
        "id": "EA-agwUHheBD"
      },
      "execution_count": null,
      "outputs": []
    },
    {
      "cell_type": "markdown",
      "source": [
        "Important notes about **kwargs **bold text**\n",
        "\n",
        "1.   **kwargs is a Dictionary\n",
        "2.   The Name \"kwargs\" is Just Convention\n",
        "1.   Order Matters in Function Definitions\n",
        "2.   List item\n",
        "\n",
        "\n",
        "\n"
      ],
      "metadata": {
        "id": "JXbLT7Yyg1le"
      }
    },
    {
      "cell_type": "code",
      "source": [
        "def filter_data(data, **kwargs):\n",
        "    \"\"\"Filter data based on keyword arguments\"\"\"\n",
        "    filtered = []\n",
        "    for item in data:\n",
        "        match = True\n",
        "        for key, value in kwargs.items():\n",
        "            if key not in item or item[key] != value:\n",
        "                match = False\n",
        "                break\n",
        "        if match:\n",
        "            filtered.append(item)\n",
        "    return filtered\n",
        "\n",
        "# Sample data\n",
        "students = [\n",
        "    {'name': 'Alice', 'grade': 'A', 'age': 20, 'major': 'CS'},\n",
        "    {'name': 'Bob', 'grade': 'B', 'age': 21, 'major': 'Math'},\n",
        "    {'name': 'Charlie', 'grade': 'A', 'age': 20, 'major': 'CS'},\n",
        "]\n",
        "\n",
        "# Filter examples\n",
        "cs_students = filter_data(students, major='CS')\n",
        "young_a_students = filter_data(students, grade='A', age=20)"
      ],
      "metadata": {
        "id": "rnSI_yyNqgPt"
      },
      "execution_count": null,
      "outputs": []
    },
    {
      "cell_type": "code",
      "source": [
        "def api_request(url, method = \"GET\", **kwargs):\n",
        "  \"\"\"Make an API request with flexible parameters\"\"\"\n",
        "  import requests\n",
        "\n",
        "  headers = kwargs.pop('headers',{})\n",
        "  timeout = kwargs.pop('timeout', 30)\n",
        "# pass any remaining kwargs to requests\n",
        "  response = requests.request(\n",
        "      method = method,\n",
        "      url = url,\n",
        "      headers = headers,\n",
        "      timeout = timeout,\n",
        "      **kwargs  #this may include 'data','json','params', etc\n",
        "  )\n",
        "  return response\n",
        "\n",
        "  response = api_request(\n",
        "      \"https://api.example.com/users\",\n",
        "      method = \"POST\",\n",
        "      json ={'name' : 'Alice', 'email' : 'alice@example.com'},\n",
        "      headers = {'Authorization' : 'Bearer token123'},\n",
        "      timeout = 60\n",
        "  )\n",
        "  print(response)"
      ],
      "metadata": {
        "id": "KK5HSo-5rM2U"
      },
      "execution_count": null,
      "outputs": []
    },
    {
      "cell_type": "markdown",
      "source": [
        "**\"Global\"** KeyWord and variables\n",
        "\n",
        "When you use the global keyword, any changes to that variable inside the function directly affect the globally declared variable. The global variable and the variable inside the function become the same memory location, so modifications are immediately reflected everywhere the global variable is accessed."
      ],
      "metadata": {
        "id": "PL5h6qYlaWz_"
      }
    },
    {
      "cell_type": "code",
      "source": [
        "global_var = \"I'm global\"\n",
        "\n",
        "def global_example():\n",
        "    print(global_var)  # Access global variable\n",
        "\n",
        "def modify_global():\n",
        "    global global_var\n",
        "    global_var = \"Modified global\"\n",
        "\n",
        "global_example()  # Output: I'm global\n",
        "modify_global()\n",
        "global_example()  # Output: Modified global"
      ],
      "metadata": {
        "id": "BoLxB9vjgD8z",
        "colab": {
          "base_uri": "https://localhost:8080/"
        },
        "outputId": "73acee36-8602-4ad6-8ebd-4e2f87a1f0e0"
      },
      "execution_count": null,
      "outputs": [
        {
          "output_type": "stream",
          "name": "stdout",
          "text": [
            "I'm global\n",
            "Modified global\n"
          ]
        }
      ]
    },
    {
      "cell_type": "code",
      "source": [
        "counter = 0\n",
        "def increment_local():\n",
        "  counter = 5\n",
        "  print(\"Local counter:\", counter)\n",
        "increment_local()\n",
        "print(\"Global counter:\", counter)"
      ],
      "metadata": {
        "colab": {
          "base_uri": "https://localhost:8080/"
        },
        "id": "9w00ndemIaxf",
        "outputId": "ad38f7a3-388b-42c1-f35c-5551c0aa34fc"
      },
      "execution_count": null,
      "outputs": [
        {
          "output_type": "stream",
          "name": "stdout",
          "text": [
            "Local Counter: 5\n",
            "Global Counter: 5\n"
          ]
        }
      ]
    },
    {
      "cell_type": "code",
      "source": [
        "debug_mode = False\n",
        "app_version  = \"1.0.1\"\n",
        "\n",
        "def enable_debug():\n",
        "  global debug_mode\n",
        "  debug_mode = True\n",
        "  print(\"Debug mode is enabled\")\n",
        "\n",
        "def update_version(new_version):\n",
        "  global app_version\n",
        "  app_version = new_version\n",
        "  print(\"App version updated\")\n",
        "\n",
        "print(f\"Initial: debug = {debug_mode}, version = {app_version}\")\n",
        "enable_debug()\n",
        "update_version(\"1.0.2\")\n",
        "print(f\"After update: debug = {debug_mode}, version = {app_version}\")\n"
      ],
      "metadata": {
        "colab": {
          "base_uri": "https://localhost:8080/"
        },
        "id": "HIeAMGthJfaZ",
        "outputId": "324cfbbc-6d73-4dff-8382-35bbc41dc943"
      },
      "execution_count": null,
      "outputs": [
        {
          "output_type": "stream",
          "name": "stdout",
          "text": [
            "Initial: debug = False, version = 1.0.1\n",
            "Debug mode is enabled\n",
            "App version updated\n",
            "After update: debug = True, version = 1.0.2\n"
          ]
        }
      ]
    },
    {
      "cell_type": "code",
      "source": [
        "\"\"\"Game Score Tracking\"\"\"\n",
        "score = 0\n",
        "lives = 3\n",
        "def addscore(up):\n",
        "  global score\n",
        "  score = score + up\n",
        "  print(f\"Added {up} points. Total Score: {score}\")\n",
        "\n",
        "def lifecount():\n",
        "  global lives\n",
        "  lives = lives - 1\n",
        "  print(f\"Lost a life. Lives left: {lives}\")\n",
        "\n",
        "def reset():\n",
        "  global score, lives\n",
        "  score = 0\n",
        "  lives = 3\n",
        "  print(\"Game reset. Score and lives reset.\")\n",
        "addscore(100)\n",
        "lifecount()\n",
        "addscore(50)\n",
        "reset()"
      ],
      "metadata": {
        "colab": {
          "base_uri": "https://localhost:8080/"
        },
        "id": "csvD58CJLm64",
        "outputId": "838a7c98-809c-46f2-af5d-1073e36e38b8"
      },
      "execution_count": null,
      "outputs": [
        {
          "output_type": "stream",
          "name": "stdout",
          "text": [
            "Added 100 points. Total Score: 100\n",
            "Lost a life. Lives left: 2\n",
            "Added 50 points. Total Score: 150\n",
            "Game reset. Score and lives reset.\n"
          ]
        }
      ]
    },
    {
      "cell_type": "code",
      "source": [
        "\"\"\"Multiple Functions Modifying the Same Global Variable\"\"\"\n",
        "balance = 10000\n",
        "\n",
        "def deposit(amount):\n",
        "  global balance\n",
        "  balance += amount\n",
        "  print(f\"Deposited ${amount}. New balance is ${balance}\")\n",
        "\n",
        "def withdraw(amount):\n",
        "  global balance\n",
        "  if amount > balance:\n",
        "    print(\"Insufficient funds\")\n",
        "    return\n",
        "  balance -= amount\n",
        "  print(f\"Withdrew ${amount}. New balance is ${balance}\")\n",
        "\n",
        "def check():\n",
        "  print(f\"Current balance is ${balance}\")\n",
        "\n",
        "\n",
        "deposit(500)\n",
        "withdraw(2000)"
      ],
      "metadata": {
        "colab": {
          "base_uri": "https://localhost:8080/"
        },
        "id": "80SetXfaNJ7N",
        "outputId": "8bf27f95-7e7e-41cd-e626-cd11b866dd33"
      },
      "execution_count": null,
      "outputs": [
        {
          "output_type": "stream",
          "name": "stdout",
          "text": [
            "Deposited $500. New balance is $10500\n",
            "Withdrew $2000. New balance is $8500\n"
          ]
        }
      ]
    },
    {
      "cell_type": "code",
      "source": [
        "def create_account(initial_balance):\n",
        "    balance = initial_balance\n",
        "    def deposit(amount):\n",
        "        nonlocal balance\n",
        "        balance += amount\n",
        "        print(f\"Deposited ${amount}. New balance is ${balance}\")\n",
        "\n",
        "    def withdraw(amount):\n",
        "      nonlocal balance\n",
        "      if balance <= 100:\n",
        "        print(\"Insufficient balance\")\n",
        "      else:\n",
        "        balance -= amount\n",
        "        print(f\"Withdrawn ${amount}, New Balance : ${balance}\")\n",
        "\n",
        "    def get_balance():\n",
        "      nonlocal balance\n",
        "      print(f\"Current Balance : ${balance}\")\n",
        "    return deposit, withdraw, get_balance\n",
        "\n",
        "deposit, withdraw, balance = create_account(100)\n",
        "deposit(50)\n",
        "withdraw(30)\n",
        "balance()\n",
        "\n",
        "# Expected usage:\n",
        "# deposit, withdraw, balance = create_account(100)\n",
        "# print(balance())  # Should print 100\n",
        "# deposit(50)       # Should add 50 to balance\n",
        "# withdraw(30)      # Should subtract 30 from balance\n",
        "# print(balance())  # Should print 120"
      ],
      "metadata": {
        "id": "FNAGoGVWOihT",
        "colab": {
          "base_uri": "https://localhost:8080/"
        },
        "outputId": "29d2231f-833d-4e91-adee-7bca1fbe4790"
      },
      "execution_count": null,
      "outputs": [
        {
          "output_type": "stream",
          "name": "stdout",
          "text": [
            "Deposited $50. New balance is $150\n",
            "Withdrawn $30, New Balance : $120\n",
            "Current Balance : $120\n"
          ]
        }
      ]
    },
    {
      "cell_type": "code",
      "source": [
        "def create_tracker():\n",
        "  callcounts = {}\n",
        "\n",
        "  def track(func):\n",
        "    def wrapper(*args, **kwargs):\n",
        "      nonlocal callcounts\n",
        "      funcname = func.__name__\n",
        "      if funcname in callcounts:\n",
        "        callcounts[funcname] += 1\n",
        "      else:\n",
        "          callcounts[funcname] = 1\n",
        "      return func(*args, **kwargs)\n",
        "    return wrapper\n",
        "  def get_stats():\n",
        "    return callcounts.copy()\n",
        "  return track, get_stats\n",
        "track, get_stats = create_tracker()\n",
        "\n",
        "@track\n",
        "def add(a, b):\n",
        "  return a + b\n",
        "@track\n",
        "def multiply(a,b):\n",
        "  return a * b\n",
        "\n",
        "result1 = add(1, 2)\n",
        "result2 = add(3, 4)\n",
        "result3 = multiply(2, 3)\n",
        "\n",
        "print(get_stats())"
      ],
      "metadata": {
        "colab": {
          "base_uri": "https://localhost:8080/"
        },
        "id": "AKEP2FS9eCOy",
        "outputId": "d482a3a1-11ec-406d-c516-784c03194ad6"
      },
      "execution_count": null,
      "outputs": [
        {
          "output_type": "stream",
          "name": "stdout",
          "text": [
            "{'add': 2, 'multiply': 1}\n"
          ]
        }
      ]
    },
    {
      "cell_type": "markdown",
      "source": [
        "**Advanced Functions Features**\n",
        "\n",
        "First Class Objects\n",
        "\n",
        "In Python, functions are first-class objects\n",
        "This means functions can be:\n",
        "\n",
        "Assigned to variables\n",
        "Passed as arguments to other functions\n",
        "Returned from functions\n",
        "Stored in data structures (lists, dictionaries, etc.)\n",
        "Created at runtime"
      ],
      "metadata": {
        "id": "1tSMIxKbaXXl"
      }
    },
    {
      "cell_type": "code",
      "source": [
        "import random\n",
        "import string\n",
        "\n",
        "def generate_password(length = 8, include_numbers = True, include_symbols = True):\n",
        "  characters = string.ascii_letters\n",
        "  if include_numbers:\n",
        "    characters += string.digits\n",
        "  if include_symbols:\n",
        "    characters += string.punctuation\n",
        "  password = ''.join(random.choice(characters)for _ in range(length))\n",
        "  return password\n",
        "\n",
        "print(\"Default password:\", generate_password())\n",
        "print(\"12-char with numbers:\", generate_password(12))\n",
        "print(\"10-char with symbols:\", generate_password(10, include_symbols=True))\n",
        "print(\"8-char letters only:\", generate_password(include_numbers=False))\n",
        "print(\"15-char with everything:\", generate_password(15, include_symbols=True))"
      ],
      "metadata": {
        "id": "9UIrOl9Xf8ay",
        "colab": {
          "base_uri": "https://localhost:8080/"
        },
        "outputId": "e09be407-b81d-498d-9f44-8c49ebeb98ac"
      },
      "execution_count": null,
      "outputs": [
        {
          "output_type": "stream",
          "name": "stdout",
          "text": [
            "Default password: 8oDp\\#k<\n",
            "12-char with numbers: 94@Yn)Gqx&bE\n",
            "10-char with symbols: Ox@gYy,l,f\n",
            "8-char letters only: +uujT&+k\n",
            "15-char with everything: >g$Oee\\w6,~ldz,\n"
          ]
        }
      ]
    },
    {
      "cell_type": "markdown",
      "source": [
        "**LISTS**\n",
        "\n",
        "ordered, mutable(changeable) collection of items that can have different data types, also allows duplicates"
      ],
      "metadata": {
        "id": "_-Nb93BiAs_R"
      }
    },
    {
      "cell_type": "code",
      "source": [
        "fruits = ['apple','banana','cherry','orange','grape','pear']\n",
        "# Accessing elements\n",
        "print(fruits[3])\n",
        "print(fruits[:3])\n",
        "# Adding elements\n",
        "fruits.append('mango')\n",
        "fruits.insert(1,'plum')\n",
        "fruits.extend(['kiwi', 'guava'])\n",
        "# other methods\n",
        "print(len(fruits))\n",
        "print(fruits.count('apple'))\n",
        "print(fruits.index('apple'))\n",
        "print(fruits.sort())\n",
        "print(fruits.reverse())\n",
        "# Remove elements\n",
        "fruits.remove('banana')\n",
        "fruits.pop(2)\n",
        "del fruits[0]\n",
        "fruits.clear()"
      ],
      "metadata": {
        "id": "yAlStuGAJOaU",
        "colab": {
          "base_uri": "https://localhost:8080/"
        },
        "outputId": "ad53b0de-559b-40b4-9985-2b754e06d589"
      },
      "execution_count": null,
      "outputs": [
        {
          "output_type": "stream",
          "name": "stdout",
          "text": [
            "orange\n",
            "['apple', 'banana', 'cherry']\n",
            "10\n",
            "1\n",
            "0\n",
            "None\n",
            "None\n"
          ]
        }
      ]
    },
    {
      "cell_type": "markdown",
      "source": [
        "**TUPLE**\n",
        "\n",
        "Ordered, Immutable(unchangeable) collections of items that allows duplications."
      ],
      "metadata": {
        "id": "0ldQatAohFbP"
      }
    },
    {
      "cell_type": "code",
      "source": [
        "# Creating Tuple\n",
        "empty_tuple = ()\n",
        "single_tuple = (5,)\n",
        "coordinates = (10,20)\n",
        "point = 3,4\n",
        "# Accessing elements\n",
        "numbers = (1,2,3,4,5,3,1,2,2)\n",
        "print(numbers[2])\n",
        "print(numbers[1:3])\n",
        "print(numbers[-2])\n",
        "# tuple methods\n",
        "print(numbers.count(2))\n",
        "print(numbers.index(3))\n",
        "print(len(numbers))"
      ],
      "metadata": {
        "colab": {
          "base_uri": "https://localhost:8080/"
        },
        "id": "tHgE_Rl_gY3C",
        "outputId": "885c3efa-06c2-4c17-cf74-78b1575f94d3"
      },
      "execution_count": null,
      "outputs": [
        {
          "output_type": "stream",
          "name": "stdout",
          "text": [
            "3\n",
            "(2, 3)\n",
            "2\n",
            "3\n",
            "2\n",
            "9\n"
          ]
        }
      ]
    },
    {
      "cell_type": "markdown",
      "source": [
        "**SETS**\n",
        "\n",
        "A set is an unordered, mutable, unindexed collection of unique items. Sets are defined using {} or the set() function."
      ],
      "metadata": {
        "id": "wArO2ehMTwRL"
      }
    },
    {
      "cell_type": "code",
      "source": [
        "empty_set = set()\n",
        "numbers = {1, 2, 3, 4, 5}\n",
        "fruits = {'apple', 'pear','orange','banana'}\n",
        "unique_numbers = set([1, 2, 3, 4, 5, 5, 1, 2,])"
      ],
      "metadata": {
        "id": "Fe3d3Y14TB47"
      },
      "execution_count": null,
      "outputs": []
    },
    {
      "cell_type": "code",
      "source": [
        "# adding and removing elements\n",
        "fruits = {'apple', 'banana'}\n",
        "print(fruits)\n",
        "fruits.add('pear')\n",
        "print(fruits)\n",
        "fruits.update(['grape', 'kiwi'])\n",
        "print(fruits)\n",
        "fruits.remove('banana')\n",
        "print(fruits)\n",
        "fruits.discard('mango')\n",
        "print(fruits)\n",
        "popped = fruits.pop()\n",
        "print(fruits)\n"
      ],
      "metadata": {
        "colab": {
          "base_uri": "https://localhost:8080/"
        },
        "id": "Ye0D-Pp7Iddq",
        "outputId": "73d612af-05d3-4dca-8ef8-747e532948b5"
      },
      "execution_count": null,
      "outputs": [
        {
          "output_type": "stream",
          "name": "stdout",
          "text": [
            "{'apple', 'banana'}\n",
            "{'apple', 'pear', 'banana'}\n",
            "{'apple', 'pear', 'banana', 'kiwi', 'grape'}\n",
            "{'apple', 'pear', 'kiwi', 'grape'}\n",
            "{'apple', 'pear', 'kiwi', 'grape'}\n",
            "{'pear', 'kiwi', 'grape'}\n"
          ]
        }
      ]
    },
    {
      "cell_type": "code",
      "source": [
        "set1 = {1, 2, 3, 4, 5}\n",
        "set2 = {4, 5, 6, 7, 8}\n",
        "# set operations\n",
        "union = set1 | set2 # set1.union(set2)\n",
        "print(union)\n",
        "intersection = set1 & set2 # set1.intersection(set2)\n",
        "print(intersection)\n",
        "difference = set1 - set2 # set1.difference(set2)\n",
        "print(difference)\n",
        "symmetric_difference = set1 ^ set2 # set1.symmetric_difference(set2)\n",
        "print(symmetric_difference)"
      ],
      "metadata": {
        "id": "DBaXidSrJeby",
        "colab": {
          "base_uri": "https://localhost:8080/"
        },
        "outputId": "fe7dbaa4-7fbb-4c61-c42b-d8e60ccf96d6"
      },
      "execution_count": null,
      "outputs": [
        {
          "output_type": "stream",
          "name": "stdout",
          "text": [
            "{1, 2, 3, 4, 5, 6, 7, 8}\n",
            "{4, 5}\n",
            "{1, 2, 3}\n",
            "{1, 2, 3, 6, 7, 8}\n"
          ]
        }
      ]
    },
    {
      "cell_type": "markdown",
      "source": [
        "**Dictionary**\n",
        "\n",
        "A dictionary is an ordered, mutable,unique collection of key-value pairs.Dictionaries are defined using curly braces with key-value pairs."
      ],
      "metadata": {
        "id": "dh7cJcSJXd0I"
      }
    },
    {
      "cell_type": "code",
      "source": [
        "person = {'name' : 'Alice', 'age' : 25, 'city' : 'New York'}\n",
        "print(person['name'])\n",
        "print(person.get('age'))\n",
        "print(person.get('salary',0))\n",
        "person['age'] = 31\n",
        "person['salary'] = 10000"
      ],
      "metadata": {
        "colab": {
          "base_uri": "https://localhost:8080/"
        },
        "id": "7XwvZSnCTGZt",
        "outputId": "1bbb1916-dd04-4240-888a-01150006d01e"
      },
      "execution_count": null,
      "outputs": [
        {
          "output_type": "stream",
          "name": "stdout",
          "text": [
            "Alice\n",
            "25\n",
            "0\n"
          ]
        }
      ]
    },
    {
      "cell_type": "code",
      "source": [
        "# Dictionary methods\n",
        "person = {\"name\": \"John\", \"age\": 30, \"city\": \"New York\"}\n",
        "\n",
        "# Get all keys, values, or items\n",
        "print(person.keys())    # dict_keys(['name', 'age', 'city'])\n",
        "print(person.values())  # dict_values(['John', 30, 'New York'])\n",
        "print(person.items())   # dict_items([('name', 'John'), ('age', 30), ('city', 'New York')])\n",
        "\n",
        "# Remove items\n",
        "removed_value = person.pop(\"age\")  # Remove and return value\n",
        "last_item = person.popitem()       # Remove and return last item\n",
        "del person['name']                 # Delete specific key\n",
        "person.clear()                     # Remove all items"
      ],
      "metadata": {
        "colab": {
          "base_uri": "https://localhost:8080/"
        },
        "id": "gaWpaTN6pmn0",
        "outputId": "0e527036-c7ab-4995-f0d9-ed796e7f1d75"
      },
      "execution_count": null,
      "outputs": [
        {
          "output_type": "stream",
          "name": "stdout",
          "text": [
            "dict_keys(['name', 'age', 'city'])\n",
            "dict_values(['John', 30, 'New York'])\n",
            "dict_items([('name', 'John'), ('age', 30), ('city', 'New York')])\n"
          ]
        }
      ]
    },
    {
      "cell_type": "code",
      "source": [
        "# Basic Operations\n",
        "\"\"\"List Manipulation\"\"\"\n",
        "stationary = [\"pen\", \"pencil\", \"eraser\", \"ruler\"]\n",
        "stationary.append(\"sharpner\")\n",
        "stationary.insert(0, \"compass\")\n",
        "stationary.remove(\"pencil\")\n",
        "stationary.index(\"eraser\")\n",
        "stationary.sort()\n",
        "print(stationary)"
      ],
      "metadata": {
        "id": "dCThztC6pwIn",
        "colab": {
          "base_uri": "https://localhost:8080/"
        },
        "outputId": "3c87642c-ba7f-4f55-9e70-7c774ab5b4b3"
      },
      "execution_count": null,
      "outputs": [
        {
          "output_type": "stream",
          "name": "stdout",
          "text": [
            "['compass', 'eraser', 'pen', 'ruler', 'sharpner']\n"
          ]
        }
      ]
    },
    {
      "cell_type": "code",
      "source": [
        "\"\"\"Tuple Coordinates\"\"\"\n",
        "coordinate = (2,3,4)\n",
        "def calc(coord):\n",
        "  x,y,z = coord\n",
        "  return x**2 + y**2 + z**2\n",
        "print(calc(coordinate))\n"
      ],
      "metadata": {
        "colab": {
          "base_uri": "https://localhost:8080/"
        },
        "id": "lJDjPFuFPWe3",
        "outputId": "b3801bb5-ae3e-48af-ecf8-866e727ba9ad"
      },
      "execution_count": null,
      "outputs": [
        {
          "output_type": "stream",
          "name": "stdout",
          "text": [
            "29\n"
          ]
        }
      ]
    },
    {
      "cell_type": "code",
      "source": [
        "\"\"\"Set Operations\"\"\"\n",
        "set1 = {1, 2, 3, 4, 5}\n",
        "set2 = {4, 5, 6, 7, 8}\n",
        "# comman element\n",
        "common = set1.intersection(set2)\n",
        "print(f\"Common elements are {common}\")\n",
        "onlyset1 = set1.difference(set2)\n",
        "print(f\"Elements only in set1 are {onlyset1}\")\n",
        "onlyset2  = set2.difference(set1)\n",
        "print(f\"Elements only in set2 are {onlyset2}\")\n",
        "unique = set1.symmetric_difference(set2)\n",
        "print(f\"Unique elements are {unique}\")"
      ],
      "metadata": {
        "colab": {
          "base_uri": "https://localhost:8080/"
        },
        "id": "k7u8S5v_QWym",
        "outputId": "9012df3b-940f-4d95-d8ed-41e56807d788"
      },
      "execution_count": null,
      "outputs": [
        {
          "output_type": "stream",
          "name": "stdout",
          "text": [
            "Common elements are {4, 5}\n",
            "Elements only in set1 are {1, 2, 3}\n",
            "Elements only in set2 are {8, 6, 7}\n",
            "Unique elements are {1, 2, 3, 6, 7, 8}\n"
          ]
        }
      ]
    },
    {
      "cell_type": "code",
      "source": [
        "\"\"\"Dictionary Operations\"\"\"\n",
        "students = {\n",
        "    'Alice': {'grade': 'A', 'age': 20, 'major': {'Maths','Physics'}},\n",
        "    'Bob': {'grade': 'B', 'age': 21, 'major': {'Math','Chemistry'}},\n",
        "    'Charlie': {'grade': 'A', 'age': 20, 'major': {'Physics', 'Biology'}}\n",
        "}\n",
        "# add new student\n",
        "students[\"Daisy\"] = {'grade': 'B', 'age': 21, 'major': {'Maths', 'English'}}\n",
        "print(students)\n",
        "# update new student\n",
        "students[\"Alice\"][\"age\"] = 21\n",
        "# find a student taking physics\n",
        "phy_major = set()\n",
        "for name in students:\n",
        "  for major in students[name]['major']:\n",
        "    if major == \"Physics\":\n",
        "      phy_major.add(name)\n",
        "\n",
        "print(f\"Students taking Physics major are {phy_major}\")"
      ],
      "metadata": {
        "id": "FVrQzL6VSEA6",
        "colab": {
          "base_uri": "https://localhost:8080/"
        },
        "outputId": "3c9319fa-61b5-446d-dc22-dd2a803221e8"
      },
      "execution_count": null,
      "outputs": [
        {
          "output_type": "stream",
          "name": "stdout",
          "text": [
            "{'Alice': {'grade': 'A', 'age': 20, 'major': {'Maths', 'Physics'}}, 'Bob': {'grade': 'B', 'age': 21, 'major': {'Chemistry', 'Math'}}, 'Charlie': {'grade': 'A', 'age': 20, 'major': {'Biology', 'Physics'}}, 'Daisy': {'grade': 'B', 'age': 21, 'major': {'Maths', 'English'}}}\n",
            "Students taking Physics major are {'Alice', 'Charlie'}\n"
          ]
        }
      ]
    },
    {
      "cell_type": "code",
      "source": [
        "# write a function that takes a string and returns a dictionary with the count of each character in the string\n",
        "def charcount(string):\n",
        "  str = string.lower()\n",
        "  frequency = {}\n",
        "  unique = set()\n",
        "  for char in range(len[str]):\n",
        "    if char in unique:\n",
        "      frequency[char]+=1\n",
        "    else:\n",
        "      frequency[char] = 1\n",
        "      unique.add(char)\n",
        "\n"
      ],
      "metadata": {
        "colab": {
          "base_uri": "https://localhost:8080/"
        },
        "id": "sB9mvIEcMDhY",
        "outputId": "15b18844-bacf-44b9-edd7-780a25bda6c0"
      },
      "execution_count": null,
      "outputs": [
        {
          "output_type": "stream",
          "name": "stdout",
          "text": [
            "{'l', 'w', 'r', 'e', 'o', 'd', ' ', 'h'} \n",
            " {'h': 1, 'e': 1, 'l': 3, 'o': 2, ' ': 1, 'w': 1, 'r': 1, 'd': 1}\n"
          ]
        }
      ]
    },
    {
      "cell_type": "code",
      "source": [
        "# write a function that takes a string and returns a dictionary with the count of each character in the string\n",
        "def charcount(string):\n",
        "  str = string.lower().strip(\" \")\n",
        "  frequency = {}\n",
        "  for char in str:\n",
        "    if char in frequency:\n",
        "      frequency[char]+=1\n",
        "    else:\n",
        "      frequency[char] = 1\n",
        "  return frequency\n",
        "freq = charcount(\"Hello World Welcome to my area\")\n",
        "print(freq)"
      ],
      "metadata": {
        "colab": {
          "base_uri": "https://localhost:8080/"
        },
        "id": "gYpuPFR_Vn5a",
        "outputId": "9d4993da-dc7e-4a1a-e3d5-b2abed313241"
      },
      "execution_count": null,
      "outputs": [
        {
          "output_type": "stream",
          "name": "stdout",
          "text": [
            "{'h': 1, 'e': 4, 'l': 4, 'o': 4, ' ': 5, 'w': 2, 'r': 2, 'd': 1, 'c': 1, 'm': 2, 't': 1, 'y': 1, 'a': 2}\n"
          ]
        }
      ]
    },
    {
      "cell_type": "code",
      "source": [
        "# write a function that takes a string and returns a dictionary with the count of each word\n",
        "def wordcount(string):\n",
        "  str = string.lower().split()\n",
        "  frequency = {}\n",
        "  for word in str:\n",
        "    word = word.strip(\".,!?;:\")\n",
        "    frequency[word]= frequency.get(word,0) + 1\n",
        "  return frequency\n",
        "\n",
        "freq = wordcount(\"Hello Guys Welcome and Welcome back to my channel\")\n",
        "print(freq)"
      ],
      "metadata": {
        "colab": {
          "base_uri": "https://localhost:8080/"
        },
        "id": "md9lLHLHXncl",
        "outputId": "b2ea461d-49d5-4e50-c12e-09232665468c"
      },
      "execution_count": null,
      "outputs": [
        {
          "output_type": "stream",
          "name": "stdout",
          "text": [
            "{'hello': 1, 'guys': 1, 'welcome': 2, 'and': 1, 'back': 1, 'to': 1, 'my': 1, 'channel': 1}\n"
          ]
        }
      ]
    },
    {
      "cell_type": "code",
      "source": [
        "# function to flatten list\n",
        "def flatten(nested_list):\n",
        "  flatten_list = []\n",
        "  for item in nested_list:\n",
        "    if isinstance(item,list):\n",
        "      nested_list.extend(flatten(item))\n",
        "    else:\n",
        "      flatten_list.append(item)\n",
        "  return flatten_list\n",
        "out = flatten([1,2,3,[4,5],[6,[7,8]]])\n",
        "print(out)"
      ],
      "metadata": {
        "colab": {
          "base_uri": "https://localhost:8080/"
        },
        "id": "-bf8LYu310CB",
        "outputId": "69a21385-8f83-49b4-d530-f6f0f13d2026"
      },
      "execution_count": null,
      "outputs": [
        {
          "output_type": "stream",
          "name": "stdout",
          "text": [
            "[1, 2, 3, 4, 5, 6, 7, 8]\n"
          ]
        }
      ]
    },
    {
      "cell_type": "code",
      "source": [
        "emails = [\n",
        "    \"john@gmail.com\", \"alice@yahoo.com\", \"bob@gmail.com\",\n",
        "    \"charlie@outlook.com\", \"diana@gmail.com\", \"eve@yahoo.com\"\n",
        "]\n",
        "domains = [email.split('@')[1] for email in emails]#email in email is a str and can have split method\n",
        "uniquedomains = set(domains)\n",
        "domaincount = {}\n",
        "for domain in domains:\n",
        "  domaincount[domain] = domaincount.get(domain,0) + 1\n",
        "mostcommon = max(domaincount, key = domaincount.get)\n",
        "\n",
        "users_by_domain = {}\n",
        "for email in emails:\n",
        "  user, domain = email.split('@')\n",
        "  if domain not in users_by_domain:\n",
        "    users_by_domain[domain] = []\n",
        "  users_by_domain[domain].append(user)\n",
        "\n",
        "print(f\"Unique domains: {uniquedomains}\")\n",
        "print(f\"Most common domain: {mostcommon}\")\n",
        "print(f\"Users by domain: {users_by_domain}\")"
      ],
      "metadata": {
        "id": "N6X80c4uCIR6",
        "colab": {
          "base_uri": "https://localhost:8080/"
        },
        "outputId": "497924b5-2a57-4870-ee54-4bfe4189db39"
      },
      "execution_count": null,
      "outputs": [
        {
          "output_type": "stream",
          "name": "stdout",
          "text": [
            "Unique domains: {'yahoo.com', 'outlook.com', 'gmail.com'}\n",
            "Most common domain: gmail.com\n",
            "Users by domain: {'gmail.com': ['john', 'bob', 'diana'], 'yahoo.com': ['alice', 'eve'], 'outlook.com': ['charlie']}\n"
          ]
        }
      ]
    },
    {
      "cell_type": "code",
      "source": [
        "# Write functions to convert between different data structures while preserving info\n",
        "def dict_to_tuple(dict):\n",
        "  return list(dict.items())\n",
        "\n",
        "def tuple_to_dict(tuple):\n",
        "  return dict(tuple)\n",
        "\n",
        "def list_to_freq_dict(list):\n",
        "  freq = {}\n",
        "  for item in list:\n",
        "    freq[item] = freq.get(item,0) + 1\n",
        "  return freq\n",
        "\n",
        "def freq_dict_to_list(freq_dict):\n",
        "  return list(freq_dict.items())\n",
        "\n",
        "data_dict = {\"a\": 1, \"b\": 2, \"c\": 3}\n",
        "tuple_list = dict_to_tuple(data_dict)\n",
        "print(f\"Dictionary to tuples: {tuple_list}\")\n",
        "\n",
        "numbers = [1, 2, 2, 3, 3, 3, 4]\n",
        "freq_dict = list_to_freq_dict(numbers)\n",
        "print(f\"List to frequency dict: {freq_dict}\")"
      ],
      "metadata": {
        "colab": {
          "base_uri": "https://localhost:8080/"
        },
        "id": "YGr68Shb-K76",
        "outputId": "f46af61d-b9ee-42d3-9605-c47a5cf3b57d"
      },
      "execution_count": null,
      "outputs": [
        {
          "output_type": "stream",
          "name": "stdout",
          "text": [
            "Dictionary to tuples: [('a', 1), ('b', 2), ('c', 3)]\n",
            "List to frequency dict: {1: 1, 2: 2, 3: 3, 4: 1}\n"
          ]
        }
      ]
    },
    {
      "cell_type": "code",
      "source": [
        "students_data = [\n",
        "    {\"name\": \"Alice\", \"scores\": [85, 92, 78, 96], \"year\": 2},\n",
        "    {\"name\": \"Bob\", \"scores\": [79, 85, 88, 82], \"year\": 1},\n",
        "    {\"name\": \"Charlie\", \"scores\": [95, 87, 91, 89], \"year\": 3},\n",
        "    {\"name\": \"Diana\", \"scores\": [88, 94, 86, 92], \"year\": 2},\n",
        "]\n",
        "\n",
        "def analyze_students(data):\n",
        "  # avg\n",
        "  for student in data:\n",
        "    student[\"average\"] = sum(student[\"scores\"]/len(student[\"scores\"]))\n",
        "\n",
        "  # group by year\n",
        "  year_groups = {}\n",
        "  for student in data:\n",
        "    year = student[\"year\"]\n",
        "    if year not in year_groups:\n",
        "      year_groups[year] = []\n",
        "    year_groups[year].append(student)\n",
        "\n",
        "  # find top performer\n",
        "  top_performer = max(data,key = lambda student: sum(student[\"scores\"]))\n",
        "\n",
        "  #calc year avg\n",
        "  yearavg = {}\n",
        "  for year, average in year_groups.items():\n"
      ],
      "metadata": {
        "id": "bHAvIK_GsBRw"
      },
      "execution_count": null,
      "outputs": []
    },
    {
      "cell_type": "code",
      "source": [
        "!git clone https://github.com/Shweta094/Python-Development.git"
      ],
      "metadata": {
        "colab": {
          "base_uri": "https://localhost:8080/"
        },
        "id": "j68kz9DKZriK",
        "outputId": "72616896-91fd-4a45-ec01-76b4dd1f8705"
      },
      "execution_count": 1,
      "outputs": [
        {
          "output_type": "stream",
          "name": "stdout",
          "text": [
            "Cloning into 'Python-Development'...\n",
            "remote: Enumerating objects: 3, done.\u001b[K\n",
            "remote: Counting objects: 100% (3/3), done.\u001b[K\n",
            "remote: Compressing objects: 100% (2/2), done.\u001b[K\n",
            "remote: Total 3 (delta 0), reused 0 (delta 0), pack-reused 0 (from 0)\u001b[K\n",
            "Receiving objects: 100% (3/3), done.\n"
          ]
        }
      ]
    },
    {
      "cell_type": "code",
      "source": [
        "!pwd"
      ],
      "metadata": {
        "colab": {
          "base_uri": "https://localhost:8080/"
        },
        "id": "fblRC9F5Z2et",
        "outputId": "4127d2ef-7042-4735-be25-067b2a8a161e"
      },
      "execution_count": 6,
      "outputs": [
        {
          "output_type": "stream",
          "name": "stdout",
          "text": [
            "/content\n"
          ]
        }
      ]
    },
    {
      "cell_type": "code",
      "source": [],
      "metadata": {
        "id": "mQ_6BPTmaFxH"
      },
      "execution_count": null,
      "outputs": []
    }
  ]
}